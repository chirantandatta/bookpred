{
  "cells": [
    {
      "cell_type": "code",
      "execution_count": null,
      "metadata": {
        "id": "NLFURcO43ZAK"
      },
      "outputs": [
        {
          "ename": "",
          "evalue": "",
          "output_type": "error",
          "traceback": [
            "\u001b[1;31mRunning cells with 'Python 3.7.9 64-bit (microsoft store)' requires ipykernel package.\n",
            "\u001b[1;31mRun the following command to install 'ipykernel' into the Python environment. \n",
            "\u001b[1;31mCommand: 'c:/Users/chirantan.datta/AppData/Local/Microsoft/WindowsApps/python3.7.exe -m pip install ipykernel -U --force-reinstall'"
          ]
        }
      ],
      "source": [
        "import pandas as pd"
      ]
    },
    {
      "cell_type": "code",
      "execution_count": 2,
      "metadata": {
        "id": "Va-5UIuX5hz8"
      },
      "outputs": [],
      "source": [
        "df=pd.read_csv(\"data.csv\")"
      ]
    },
    {
      "cell_type": "code",
      "execution_count": 3,
      "metadata": {
        "colab": {
          "base_uri": "https://localhost:8080/",
          "height": 206
        },
        "id": "5eKAQAA45nm5",
        "outputId": "6f88d079-dbc2-45e0-8150-7b784219e419"
      },
      "outputs": [
        {
          "data": {
            "text/html": [
              "\n",
              "  <div id=\"df-34ee2256-96b8-43f3-ab85-71d9db483bd1\">\n",
              "    <div class=\"colab-df-container\">\n",
              "      <div>\n",
              "<style scoped>\n",
              "    .dataframe tbody tr th:only-of-type {\n",
              "        vertical-align: middle;\n",
              "    }\n",
              "\n",
              "    .dataframe tbody tr th {\n",
              "        vertical-align: top;\n",
              "    }\n",
              "\n",
              "    .dataframe thead th {\n",
              "        text-align: right;\n",
              "    }\n",
              "</style>\n",
              "<table border=\"1\" class=\"dataframe\">\n",
              "  <thead>\n",
              "    <tr style=\"text-align: right;\">\n",
              "      <th></th>\n",
              "      <th>index</th>\n",
              "      <th>title</th>\n",
              "      <th>genre</th>\n",
              "      <th>summary</th>\n",
              "    </tr>\n",
              "  </thead>\n",
              "  <tbody>\n",
              "    <tr>\n",
              "      <th>0</th>\n",
              "      <td>0</td>\n",
              "      <td>Drowned Wednesday</td>\n",
              "      <td>fantasy</td>\n",
              "      <td>Drowned Wednesday is the first Trustee among ...</td>\n",
              "    </tr>\n",
              "    <tr>\n",
              "      <th>1</th>\n",
              "      <td>1</td>\n",
              "      <td>The Lost Hero</td>\n",
              "      <td>fantasy</td>\n",
              "      <td>As the book opens, Jason awakens on a school ...</td>\n",
              "    </tr>\n",
              "    <tr>\n",
              "      <th>2</th>\n",
              "      <td>2</td>\n",
              "      <td>The Eyes of the Overworld</td>\n",
              "      <td>fantasy</td>\n",
              "      <td>Cugel is easily persuaded by the merchant Fia...</td>\n",
              "    </tr>\n",
              "    <tr>\n",
              "      <th>3</th>\n",
              "      <td>3</td>\n",
              "      <td>Magic's Promise</td>\n",
              "      <td>fantasy</td>\n",
              "      <td>The book opens with Herald-Mage Vanyel return...</td>\n",
              "    </tr>\n",
              "    <tr>\n",
              "      <th>4</th>\n",
              "      <td>4</td>\n",
              "      <td>Taran Wanderer</td>\n",
              "      <td>fantasy</td>\n",
              "      <td>Taran and Gurgi have returned to Caer Dallben...</td>\n",
              "    </tr>\n",
              "  </tbody>\n",
              "</table>\n",
              "</div>\n",
              "      <button class=\"colab-df-convert\" onclick=\"convertToInteractive('df-34ee2256-96b8-43f3-ab85-71d9db483bd1')\"\n",
              "              title=\"Convert this dataframe to an interactive table.\"\n",
              "              style=\"display:none;\">\n",
              "        \n",
              "  <svg xmlns=\"http://www.w3.org/2000/svg\" height=\"24px\"viewBox=\"0 0 24 24\"\n",
              "       width=\"24px\">\n",
              "    <path d=\"M0 0h24v24H0V0z\" fill=\"none\"/>\n",
              "    <path d=\"M18.56 5.44l.94 2.06.94-2.06 2.06-.94-2.06-.94-.94-2.06-.94 2.06-2.06.94zm-11 1L8.5 8.5l.94-2.06 2.06-.94-2.06-.94L8.5 2.5l-.94 2.06-2.06.94zm10 10l.94 2.06.94-2.06 2.06-.94-2.06-.94-.94-2.06-.94 2.06-2.06.94z\"/><path d=\"M17.41 7.96l-1.37-1.37c-.4-.4-.92-.59-1.43-.59-.52 0-1.04.2-1.43.59L10.3 9.45l-7.72 7.72c-.78.78-.78 2.05 0 2.83L4 21.41c.39.39.9.59 1.41.59.51 0 1.02-.2 1.41-.59l7.78-7.78 2.81-2.81c.8-.78.8-2.07 0-2.86zM5.41 20L4 18.59l7.72-7.72 1.47 1.35L5.41 20z\"/>\n",
              "  </svg>\n",
              "      </button>\n",
              "      \n",
              "  <style>\n",
              "    .colab-df-container {\n",
              "      display:flex;\n",
              "      flex-wrap:wrap;\n",
              "      gap: 12px;\n",
              "    }\n",
              "\n",
              "    .colab-df-convert {\n",
              "      background-color: #E8F0FE;\n",
              "      border: none;\n",
              "      border-radius: 50%;\n",
              "      cursor: pointer;\n",
              "      display: none;\n",
              "      fill: #1967D2;\n",
              "      height: 32px;\n",
              "      padding: 0 0 0 0;\n",
              "      width: 32px;\n",
              "    }\n",
              "\n",
              "    .colab-df-convert:hover {\n",
              "      background-color: #E2EBFA;\n",
              "      box-shadow: 0px 1px 2px rgba(60, 64, 67, 0.3), 0px 1px 3px 1px rgba(60, 64, 67, 0.15);\n",
              "      fill: #174EA6;\n",
              "    }\n",
              "\n",
              "    [theme=dark] .colab-df-convert {\n",
              "      background-color: #3B4455;\n",
              "      fill: #D2E3FC;\n",
              "    }\n",
              "\n",
              "    [theme=dark] .colab-df-convert:hover {\n",
              "      background-color: #434B5C;\n",
              "      box-shadow: 0px 1px 3px 1px rgba(0, 0, 0, 0.15);\n",
              "      filter: drop-shadow(0px 1px 2px rgba(0, 0, 0, 0.3));\n",
              "      fill: #FFFFFF;\n",
              "    }\n",
              "  </style>\n",
              "\n",
              "      <script>\n",
              "        const buttonEl =\n",
              "          document.querySelector('#df-34ee2256-96b8-43f3-ab85-71d9db483bd1 button.colab-df-convert');\n",
              "        buttonEl.style.display =\n",
              "          google.colab.kernel.accessAllowed ? 'block' : 'none';\n",
              "\n",
              "        async function convertToInteractive(key) {\n",
              "          const element = document.querySelector('#df-34ee2256-96b8-43f3-ab85-71d9db483bd1');\n",
              "          const dataTable =\n",
              "            await google.colab.kernel.invokeFunction('convertToInteractive',\n",
              "                                                     [key], {});\n",
              "          if (!dataTable) return;\n",
              "\n",
              "          const docLinkHtml = 'Like what you see? Visit the ' +\n",
              "            '<a target=\"_blank\" href=https://colab.research.google.com/notebooks/data_table.ipynb>data table notebook</a>'\n",
              "            + ' to learn more about interactive tables.';\n",
              "          element.innerHTML = '';\n",
              "          dataTable['output_type'] = 'display_data';\n",
              "          await google.colab.output.renderOutput(dataTable, element);\n",
              "          const docLink = document.createElement('div');\n",
              "          docLink.innerHTML = docLinkHtml;\n",
              "          element.appendChild(docLink);\n",
              "        }\n",
              "      </script>\n",
              "    </div>\n",
              "  </div>\n",
              "  "
            ],
            "text/plain": [
              "   index                      title    genre  \\\n",
              "0      0          Drowned Wednesday  fantasy   \n",
              "1      1              The Lost Hero  fantasy   \n",
              "2      2  The Eyes of the Overworld  fantasy   \n",
              "3      3            Magic's Promise  fantasy   \n",
              "4      4             Taran Wanderer  fantasy   \n",
              "\n",
              "                                             summary  \n",
              "0   Drowned Wednesday is the first Trustee among ...  \n",
              "1   As the book opens, Jason awakens on a school ...  \n",
              "2   Cugel is easily persuaded by the merchant Fia...  \n",
              "3   The book opens with Herald-Mage Vanyel return...  \n",
              "4   Taran and Gurgi have returned to Caer Dallben...  "
            ]
          },
          "execution_count": 3,
          "metadata": {},
          "output_type": "execute_result"
        }
      ],
      "source": [
        "df.head()"
      ]
    },
    {
      "cell_type": "code",
      "execution_count": 4,
      "metadata": {
        "colab": {
          "base_uri": "https://localhost:8080/",
          "height": 394
        },
        "id": "Y91GNgQU5pfd",
        "outputId": "88ef642d-187d-452c-9056-75de0182cfee"
      },
      "outputs": [
        {
          "data": {
            "text/html": [
              "\n",
              "  <div id=\"df-d54ac24f-5486-46ae-a7cd-aac2f15e8362\">\n",
              "    <div class=\"colab-df-container\">\n",
              "      <div>\n",
              "<style scoped>\n",
              "    .dataframe tbody tr th:only-of-type {\n",
              "        vertical-align: middle;\n",
              "    }\n",
              "\n",
              "    .dataframe tbody tr th {\n",
              "        vertical-align: top;\n",
              "    }\n",
              "\n",
              "    .dataframe thead th {\n",
              "        text-align: right;\n",
              "    }\n",
              "</style>\n",
              "<table border=\"1\" class=\"dataframe\">\n",
              "  <thead>\n",
              "    <tr style=\"text-align: right;\">\n",
              "      <th></th>\n",
              "      <th>index</th>\n",
              "      <th>title</th>\n",
              "      <th>summary</th>\n",
              "    </tr>\n",
              "    <tr>\n",
              "      <th>genre</th>\n",
              "      <th></th>\n",
              "      <th></th>\n",
              "      <th></th>\n",
              "    </tr>\n",
              "  </thead>\n",
              "  <tbody>\n",
              "    <tr>\n",
              "      <th>crime</th>\n",
              "      <td>500</td>\n",
              "      <td>500</td>\n",
              "      <td>500</td>\n",
              "    </tr>\n",
              "    <tr>\n",
              "      <th>fantasy</th>\n",
              "      <td>876</td>\n",
              "      <td>876</td>\n",
              "      <td>876</td>\n",
              "    </tr>\n",
              "    <tr>\n",
              "      <th>history</th>\n",
              "      <td>600</td>\n",
              "      <td>600</td>\n",
              "      <td>600</td>\n",
              "    </tr>\n",
              "    <tr>\n",
              "      <th>horror</th>\n",
              "      <td>600</td>\n",
              "      <td>600</td>\n",
              "      <td>600</td>\n",
              "    </tr>\n",
              "    <tr>\n",
              "      <th>psychology</th>\n",
              "      <td>100</td>\n",
              "      <td>100</td>\n",
              "      <td>100</td>\n",
              "    </tr>\n",
              "    <tr>\n",
              "      <th>romance</th>\n",
              "      <td>111</td>\n",
              "      <td>111</td>\n",
              "      <td>111</td>\n",
              "    </tr>\n",
              "    <tr>\n",
              "      <th>science</th>\n",
              "      <td>647</td>\n",
              "      <td>647</td>\n",
              "      <td>647</td>\n",
              "    </tr>\n",
              "    <tr>\n",
              "      <th>sports</th>\n",
              "      <td>100</td>\n",
              "      <td>100</td>\n",
              "      <td>100</td>\n",
              "    </tr>\n",
              "    <tr>\n",
              "      <th>thriller</th>\n",
              "      <td>1023</td>\n",
              "      <td>1023</td>\n",
              "      <td>1023</td>\n",
              "    </tr>\n",
              "    <tr>\n",
              "      <th>travel</th>\n",
              "      <td>100</td>\n",
              "      <td>100</td>\n",
              "      <td>100</td>\n",
              "    </tr>\n",
              "  </tbody>\n",
              "</table>\n",
              "</div>\n",
              "      <button class=\"colab-df-convert\" onclick=\"convertToInteractive('df-d54ac24f-5486-46ae-a7cd-aac2f15e8362')\"\n",
              "              title=\"Convert this dataframe to an interactive table.\"\n",
              "              style=\"display:none;\">\n",
              "        \n",
              "  <svg xmlns=\"http://www.w3.org/2000/svg\" height=\"24px\"viewBox=\"0 0 24 24\"\n",
              "       width=\"24px\">\n",
              "    <path d=\"M0 0h24v24H0V0z\" fill=\"none\"/>\n",
              "    <path d=\"M18.56 5.44l.94 2.06.94-2.06 2.06-.94-2.06-.94-.94-2.06-.94 2.06-2.06.94zm-11 1L8.5 8.5l.94-2.06 2.06-.94-2.06-.94L8.5 2.5l-.94 2.06-2.06.94zm10 10l.94 2.06.94-2.06 2.06-.94-2.06-.94-.94-2.06-.94 2.06-2.06.94z\"/><path d=\"M17.41 7.96l-1.37-1.37c-.4-.4-.92-.59-1.43-.59-.52 0-1.04.2-1.43.59L10.3 9.45l-7.72 7.72c-.78.78-.78 2.05 0 2.83L4 21.41c.39.39.9.59 1.41.59.51 0 1.02-.2 1.41-.59l7.78-7.78 2.81-2.81c.8-.78.8-2.07 0-2.86zM5.41 20L4 18.59l7.72-7.72 1.47 1.35L5.41 20z\"/>\n",
              "  </svg>\n",
              "      </button>\n",
              "      \n",
              "  <style>\n",
              "    .colab-df-container {\n",
              "      display:flex;\n",
              "      flex-wrap:wrap;\n",
              "      gap: 12px;\n",
              "    }\n",
              "\n",
              "    .colab-df-convert {\n",
              "      background-color: #E8F0FE;\n",
              "      border: none;\n",
              "      border-radius: 50%;\n",
              "      cursor: pointer;\n",
              "      display: none;\n",
              "      fill: #1967D2;\n",
              "      height: 32px;\n",
              "      padding: 0 0 0 0;\n",
              "      width: 32px;\n",
              "    }\n",
              "\n",
              "    .colab-df-convert:hover {\n",
              "      background-color: #E2EBFA;\n",
              "      box-shadow: 0px 1px 2px rgba(60, 64, 67, 0.3), 0px 1px 3px 1px rgba(60, 64, 67, 0.15);\n",
              "      fill: #174EA6;\n",
              "    }\n",
              "\n",
              "    [theme=dark] .colab-df-convert {\n",
              "      background-color: #3B4455;\n",
              "      fill: #D2E3FC;\n",
              "    }\n",
              "\n",
              "    [theme=dark] .colab-df-convert:hover {\n",
              "      background-color: #434B5C;\n",
              "      box-shadow: 0px 1px 3px 1px rgba(0, 0, 0, 0.15);\n",
              "      filter: drop-shadow(0px 1px 2px rgba(0, 0, 0, 0.3));\n",
              "      fill: #FFFFFF;\n",
              "    }\n",
              "  </style>\n",
              "\n",
              "      <script>\n",
              "        const buttonEl =\n",
              "          document.querySelector('#df-d54ac24f-5486-46ae-a7cd-aac2f15e8362 button.colab-df-convert');\n",
              "        buttonEl.style.display =\n",
              "          google.colab.kernel.accessAllowed ? 'block' : 'none';\n",
              "\n",
              "        async function convertToInteractive(key) {\n",
              "          const element = document.querySelector('#df-d54ac24f-5486-46ae-a7cd-aac2f15e8362');\n",
              "          const dataTable =\n",
              "            await google.colab.kernel.invokeFunction('convertToInteractive',\n",
              "                                                     [key], {});\n",
              "          if (!dataTable) return;\n",
              "\n",
              "          const docLinkHtml = 'Like what you see? Visit the ' +\n",
              "            '<a target=\"_blank\" href=https://colab.research.google.com/notebooks/data_table.ipynb>data table notebook</a>'\n",
              "            + ' to learn more about interactive tables.';\n",
              "          element.innerHTML = '';\n",
              "          dataTable['output_type'] = 'display_data';\n",
              "          await google.colab.output.renderOutput(dataTable, element);\n",
              "          const docLink = document.createElement('div');\n",
              "          docLink.innerHTML = docLinkHtml;\n",
              "          element.appendChild(docLink);\n",
              "        }\n",
              "      </script>\n",
              "    </div>\n",
              "  </div>\n",
              "  "
            ],
            "text/plain": [
              "            index  title  summary\n",
              "genre                            \n",
              "crime         500    500      500\n",
              "fantasy       876    876      876\n",
              "history       600    600      600\n",
              "horror        600    600      600\n",
              "psychology    100    100      100\n",
              "romance       111    111      111\n",
              "science       647    647      647\n",
              "sports        100    100      100\n",
              "thriller     1023   1023     1023\n",
              "travel        100    100      100"
            ]
          },
          "execution_count": 4,
          "metadata": {},
          "output_type": "execute_result"
        }
      ],
      "source": [
        "#Grouping all the rows by genre.\n",
        "\n",
        "\n",
        "df.groupby('genre').count()"
      ]
    },
    {
      "cell_type": "code",
      "execution_count": 5,
      "metadata": {
        "colab": {
          "base_uri": "https://localhost:8080/"
        },
        "id": "nvIVk6pT9jNr",
        "outputId": "c179f65a-1193-47ee-e2b6-aa1a30672441"
      },
      "outputs": [
        {
          "data": {
            "text/plain": [
              "index      0\n",
              "title      0\n",
              "genre      0\n",
              "summary    0\n",
              "dtype: int64"
            ]
          },
          "execution_count": 5,
          "metadata": {},
          "output_type": "execute_result"
        }
      ],
      "source": [
        "df.isnull().sum()"
      ]
    },
    {
      "cell_type": "code",
      "execution_count": null,
      "metadata": {
        "id": "_zSg3OZN9mQn"
      },
      "outputs": [],
      "source": [
        "x=df['summary']\n",
        "y=df['genre']"
      ]
    },
    {
      "cell_type": "code",
      "execution_count": 6,
      "metadata": {
        "id": "vw_1XEGr-DtE"
      },
      "outputs": [],
      "source": [
        "import nltk"
      ]
    },
    {
      "cell_type": "code",
      "execution_count": 7,
      "metadata": {
        "colab": {
          "base_uri": "https://localhost:8080/"
        },
        "id": "F-KNWz64-KY1",
        "outputId": "93118776-5c5c-469e-c6f9-8cccd6748f39"
      },
      "outputs": [
        {
          "name": "stderr",
          "output_type": "stream",
          "text": [
            "[nltk_data] Downloading collection 'all'\n",
            "[nltk_data]    | \n",
            "[nltk_data]    | Downloading package abc to /root/nltk_data...\n",
            "[nltk_data]    |   Unzipping corpora/abc.zip.\n",
            "[nltk_data]    | Downloading package alpino to /root/nltk_data...\n",
            "[nltk_data]    |   Unzipping corpora/alpino.zip.\n",
            "[nltk_data]    | Downloading package averaged_perceptron_tagger to\n",
            "[nltk_data]    |     /root/nltk_data...\n",
            "[nltk_data]    |   Unzipping taggers/averaged_perceptron_tagger.zip.\n",
            "[nltk_data]    | Downloading package averaged_perceptron_tagger_ru to\n",
            "[nltk_data]    |     /root/nltk_data...\n",
            "[nltk_data]    |   Unzipping\n",
            "[nltk_data]    |       taggers/averaged_perceptron_tagger_ru.zip.\n",
            "[nltk_data]    | Downloading package basque_grammars to\n",
            "[nltk_data]    |     /root/nltk_data...\n",
            "[nltk_data]    |   Unzipping grammars/basque_grammars.zip.\n",
            "[nltk_data]    | Downloading package biocreative_ppi to\n",
            "[nltk_data]    |     /root/nltk_data...\n",
            "[nltk_data]    |   Unzipping corpora/biocreative_ppi.zip.\n",
            "[nltk_data]    | Downloading package bllip_wsj_no_aux to\n",
            "[nltk_data]    |     /root/nltk_data...\n",
            "[nltk_data]    |   Unzipping models/bllip_wsj_no_aux.zip.\n",
            "[nltk_data]    | Downloading package book_grammars to\n",
            "[nltk_data]    |     /root/nltk_data...\n",
            "[nltk_data]    |   Unzipping grammars/book_grammars.zip.\n",
            "[nltk_data]    | Downloading package brown to /root/nltk_data...\n",
            "[nltk_data]    |   Unzipping corpora/brown.zip.\n",
            "[nltk_data]    | Downloading package brown_tei to /root/nltk_data...\n",
            "[nltk_data]    |   Unzipping corpora/brown_tei.zip.\n",
            "[nltk_data]    | Downloading package cess_cat to /root/nltk_data...\n",
            "[nltk_data]    |   Unzipping corpora/cess_cat.zip.\n",
            "[nltk_data]    | Downloading package cess_esp to /root/nltk_data...\n",
            "[nltk_data]    |   Unzipping corpora/cess_esp.zip.\n",
            "[nltk_data]    | Downloading package chat80 to /root/nltk_data...\n",
            "[nltk_data]    |   Unzipping corpora/chat80.zip.\n",
            "[nltk_data]    | Downloading package city_database to\n",
            "[nltk_data]    |     /root/nltk_data...\n",
            "[nltk_data]    |   Unzipping corpora/city_database.zip.\n",
            "[nltk_data]    | Downloading package cmudict to /root/nltk_data...\n",
            "[nltk_data]    |   Unzipping corpora/cmudict.zip.\n",
            "[nltk_data]    | Downloading package comparative_sentences to\n",
            "[nltk_data]    |     /root/nltk_data...\n",
            "[nltk_data]    |   Unzipping corpora/comparative_sentences.zip.\n",
            "[nltk_data]    | Downloading package comtrans to /root/nltk_data...\n",
            "[nltk_data]    | Downloading package conll2000 to /root/nltk_data...\n",
            "[nltk_data]    |   Unzipping corpora/conll2000.zip.\n",
            "[nltk_data]    | Downloading package conll2002 to /root/nltk_data...\n",
            "[nltk_data]    |   Unzipping corpora/conll2002.zip.\n",
            "[nltk_data]    | Downloading package conll2007 to /root/nltk_data...\n",
            "[nltk_data]    | Downloading package crubadan to /root/nltk_data...\n",
            "[nltk_data]    |   Unzipping corpora/crubadan.zip.\n",
            "[nltk_data]    | Downloading package dependency_treebank to\n",
            "[nltk_data]    |     /root/nltk_data...\n",
            "[nltk_data]    |   Unzipping corpora/dependency_treebank.zip.\n",
            "[nltk_data]    | Downloading package dolch to /root/nltk_data...\n",
            "[nltk_data]    |   Unzipping corpora/dolch.zip.\n",
            "[nltk_data]    | Downloading package europarl_raw to\n",
            "[nltk_data]    |     /root/nltk_data...\n",
            "[nltk_data]    |   Unzipping corpora/europarl_raw.zip.\n",
            "[nltk_data]    | Downloading package extended_omw to\n",
            "[nltk_data]    |     /root/nltk_data...\n",
            "[nltk_data]    | Downloading package floresta to /root/nltk_data...\n",
            "[nltk_data]    |   Unzipping corpora/floresta.zip.\n",
            "[nltk_data]    | Downloading package framenet_v15 to\n",
            "[nltk_data]    |     /root/nltk_data...\n",
            "[nltk_data]    |   Unzipping corpora/framenet_v15.zip.\n",
            "[nltk_data]    | Downloading package framenet_v17 to\n",
            "[nltk_data]    |     /root/nltk_data...\n",
            "[nltk_data]    |   Unzipping corpora/framenet_v17.zip.\n",
            "[nltk_data]    | Downloading package gazetteers to /root/nltk_data...\n",
            "[nltk_data]    |   Unzipping corpora/gazetteers.zip.\n",
            "[nltk_data]    | Downloading package genesis to /root/nltk_data...\n",
            "[nltk_data]    |   Unzipping corpora/genesis.zip.\n",
            "[nltk_data]    | Downloading package gutenberg to /root/nltk_data...\n",
            "[nltk_data]    |   Unzipping corpora/gutenberg.zip.\n",
            "[nltk_data]    | Downloading package ieer to /root/nltk_data...\n",
            "[nltk_data]    |   Unzipping corpora/ieer.zip.\n",
            "[nltk_data]    | Downloading package inaugural to /root/nltk_data...\n",
            "[nltk_data]    |   Unzipping corpora/inaugural.zip.\n",
            "[nltk_data]    | Downloading package indian to /root/nltk_data...\n",
            "[nltk_data]    |   Unzipping corpora/indian.zip.\n",
            "[nltk_data]    | Downloading package jeita to /root/nltk_data...\n",
            "[nltk_data]    | Downloading package kimmo to /root/nltk_data...\n",
            "[nltk_data]    |   Unzipping corpora/kimmo.zip.\n",
            "[nltk_data]    | Downloading package knbc to /root/nltk_data...\n",
            "[nltk_data]    | Downloading package large_grammars to\n",
            "[nltk_data]    |     /root/nltk_data...\n",
            "[nltk_data]    |   Unzipping grammars/large_grammars.zip.\n",
            "[nltk_data]    | Downloading package lin_thesaurus to\n",
            "[nltk_data]    |     /root/nltk_data...\n",
            "[nltk_data]    |   Unzipping corpora/lin_thesaurus.zip.\n",
            "[nltk_data]    | Downloading package mac_morpho to /root/nltk_data...\n",
            "[nltk_data]    |   Unzipping corpora/mac_morpho.zip.\n",
            "[nltk_data]    | Downloading package machado to /root/nltk_data...\n",
            "[nltk_data]    | Downloading package masc_tagged to /root/nltk_data...\n",
            "[nltk_data]    | Downloading package maxent_ne_chunker to\n",
            "[nltk_data]    |     /root/nltk_data...\n",
            "[nltk_data]    |   Unzipping chunkers/maxent_ne_chunker.zip.\n",
            "[nltk_data]    | Downloading package maxent_treebank_pos_tagger to\n",
            "[nltk_data]    |     /root/nltk_data...\n",
            "[nltk_data]    |   Unzipping taggers/maxent_treebank_pos_tagger.zip.\n",
            "[nltk_data]    | Downloading package moses_sample to\n",
            "[nltk_data]    |     /root/nltk_data...\n",
            "[nltk_data]    |   Unzipping models/moses_sample.zip.\n",
            "[nltk_data]    | Downloading package movie_reviews to\n",
            "[nltk_data]    |     /root/nltk_data...\n",
            "[nltk_data]    |   Unzipping corpora/movie_reviews.zip.\n",
            "[nltk_data]    | Downloading package mte_teip5 to /root/nltk_data...\n",
            "[nltk_data]    |   Unzipping corpora/mte_teip5.zip.\n",
            "[nltk_data]    | Downloading package mwa_ppdb to /root/nltk_data...\n",
            "[nltk_data]    |   Unzipping misc/mwa_ppdb.zip.\n",
            "[nltk_data]    | Downloading package names to /root/nltk_data...\n",
            "[nltk_data]    |   Unzipping corpora/names.zip.\n",
            "[nltk_data]    | Downloading package nombank.1.0 to /root/nltk_data...\n",
            "[nltk_data]    | Downloading package nonbreaking_prefixes to\n",
            "[nltk_data]    |     /root/nltk_data...\n",
            "[nltk_data]    |   Unzipping corpora/nonbreaking_prefixes.zip.\n",
            "[nltk_data]    | Downloading package nps_chat to /root/nltk_data...\n",
            "[nltk_data]    |   Unzipping corpora/nps_chat.zip.\n",
            "[nltk_data]    | Downloading package omw to /root/nltk_data...\n",
            "[nltk_data]    | Downloading package omw-1.4 to /root/nltk_data...\n",
            "[nltk_data]    | Downloading package opinion_lexicon to\n",
            "[nltk_data]    |     /root/nltk_data...\n",
            "[nltk_data]    |   Unzipping corpora/opinion_lexicon.zip.\n",
            "[nltk_data]    | Downloading package panlex_swadesh to\n",
            "[nltk_data]    |     /root/nltk_data...\n",
            "[nltk_data]    | Downloading package paradigms to /root/nltk_data...\n",
            "[nltk_data]    |   Unzipping corpora/paradigms.zip.\n",
            "[nltk_data]    | Downloading package pe08 to /root/nltk_data...\n",
            "[nltk_data]    |   Unzipping corpora/pe08.zip.\n",
            "[nltk_data]    | Downloading package perluniprops to\n",
            "[nltk_data]    |     /root/nltk_data...\n",
            "[nltk_data]    |   Unzipping misc/perluniprops.zip.\n",
            "[nltk_data]    | Downloading package pil to /root/nltk_data...\n",
            "[nltk_data]    |   Unzipping corpora/pil.zip.\n",
            "[nltk_data]    | Downloading package pl196x to /root/nltk_data...\n",
            "[nltk_data]    |   Unzipping corpora/pl196x.zip.\n",
            "[nltk_data]    | Downloading package porter_test to /root/nltk_data...\n",
            "[nltk_data]    |   Unzipping stemmers/porter_test.zip.\n",
            "[nltk_data]    | Downloading package ppattach to /root/nltk_data...\n",
            "[nltk_data]    |   Unzipping corpora/ppattach.zip.\n",
            "[nltk_data]    | Downloading package problem_reports to\n",
            "[nltk_data]    |     /root/nltk_data...\n",
            "[nltk_data]    |   Unzipping corpora/problem_reports.zip.\n",
            "[nltk_data]    | Downloading package product_reviews_1 to\n",
            "[nltk_data]    |     /root/nltk_data...\n",
            "[nltk_data]    |   Unzipping corpora/product_reviews_1.zip.\n",
            "[nltk_data]    | Downloading package product_reviews_2 to\n",
            "[nltk_data]    |     /root/nltk_data...\n",
            "[nltk_data]    |   Unzipping corpora/product_reviews_2.zip.\n",
            "[nltk_data]    | Downloading package propbank to /root/nltk_data...\n",
            "[nltk_data]    | Downloading package pros_cons to /root/nltk_data...\n",
            "[nltk_data]    |   Unzipping corpora/pros_cons.zip.\n",
            "[nltk_data]    | Downloading package ptb to /root/nltk_data...\n",
            "[nltk_data]    |   Unzipping corpora/ptb.zip.\n",
            "[nltk_data]    | Downloading package punkt to /root/nltk_data...\n",
            "[nltk_data]    |   Unzipping tokenizers/punkt.zip.\n",
            "[nltk_data]    | Downloading package qc to /root/nltk_data...\n",
            "[nltk_data]    |   Unzipping corpora/qc.zip.\n",
            "[nltk_data]    | Downloading package reuters to /root/nltk_data...\n",
            "[nltk_data]    | Downloading package rslp to /root/nltk_data...\n",
            "[nltk_data]    |   Unzipping stemmers/rslp.zip.\n",
            "[nltk_data]    | Downloading package rte to /root/nltk_data...\n",
            "[nltk_data]    |   Unzipping corpora/rte.zip.\n",
            "[nltk_data]    | Downloading package sample_grammars to\n",
            "[nltk_data]    |     /root/nltk_data...\n",
            "[nltk_data]    |   Unzipping grammars/sample_grammars.zip.\n",
            "[nltk_data]    | Downloading package semcor to /root/nltk_data...\n",
            "[nltk_data]    | Downloading package senseval to /root/nltk_data...\n",
            "[nltk_data]    |   Unzipping corpora/senseval.zip.\n",
            "[nltk_data]    | Downloading package sentence_polarity to\n",
            "[nltk_data]    |     /root/nltk_data...\n",
            "[nltk_data]    |   Unzipping corpora/sentence_polarity.zip.\n",
            "[nltk_data]    | Downloading package sentiwordnet to\n",
            "[nltk_data]    |     /root/nltk_data...\n",
            "[nltk_data]    |   Unzipping corpora/sentiwordnet.zip.\n",
            "[nltk_data]    | Downloading package shakespeare to /root/nltk_data...\n",
            "[nltk_data]    |   Unzipping corpora/shakespeare.zip.\n",
            "[nltk_data]    | Downloading package sinica_treebank to\n",
            "[nltk_data]    |     /root/nltk_data...\n",
            "[nltk_data]    |   Unzipping corpora/sinica_treebank.zip.\n",
            "[nltk_data]    | Downloading package smultron to /root/nltk_data...\n",
            "[nltk_data]    |   Unzipping corpora/smultron.zip.\n",
            "[nltk_data]    | Downloading package snowball_data to\n",
            "[nltk_data]    |     /root/nltk_data...\n",
            "[nltk_data]    | Downloading package spanish_grammars to\n",
            "[nltk_data]    |     /root/nltk_data...\n",
            "[nltk_data]    |   Unzipping grammars/spanish_grammars.zip.\n",
            "[nltk_data]    | Downloading package state_union to /root/nltk_data...\n",
            "[nltk_data]    |   Unzipping corpora/state_union.zip.\n",
            "[nltk_data]    | Downloading package stopwords to /root/nltk_data...\n",
            "[nltk_data]    |   Unzipping corpora/stopwords.zip.\n",
            "[nltk_data]    | Downloading package subjectivity to\n",
            "[nltk_data]    |     /root/nltk_data...\n",
            "[nltk_data]    |   Unzipping corpora/subjectivity.zip.\n",
            "[nltk_data]    | Downloading package swadesh to /root/nltk_data...\n",
            "[nltk_data]    |   Unzipping corpora/swadesh.zip.\n",
            "[nltk_data]    | Downloading package switchboard to /root/nltk_data...\n",
            "[nltk_data]    |   Unzipping corpora/switchboard.zip.\n",
            "[nltk_data]    | Downloading package tagsets to /root/nltk_data...\n",
            "[nltk_data]    |   Unzipping help/tagsets.zip.\n",
            "[nltk_data]    | Downloading package timit to /root/nltk_data...\n",
            "[nltk_data]    |   Unzipping corpora/timit.zip.\n",
            "[nltk_data]    | Downloading package toolbox to /root/nltk_data...\n",
            "[nltk_data]    |   Unzipping corpora/toolbox.zip.\n",
            "[nltk_data]    | Downloading package treebank to /root/nltk_data...\n",
            "[nltk_data]    |   Unzipping corpora/treebank.zip.\n",
            "[nltk_data]    | Downloading package twitter_samples to\n",
            "[nltk_data]    |     /root/nltk_data...\n",
            "[nltk_data]    |   Unzipping corpora/twitter_samples.zip.\n",
            "[nltk_data]    | Downloading package udhr to /root/nltk_data...\n",
            "[nltk_data]    |   Unzipping corpora/udhr.zip.\n",
            "[nltk_data]    | Downloading package udhr2 to /root/nltk_data...\n",
            "[nltk_data]    |   Unzipping corpora/udhr2.zip.\n",
            "[nltk_data]    | Downloading package unicode_samples to\n",
            "[nltk_data]    |     /root/nltk_data...\n",
            "[nltk_data]    |   Unzipping corpora/unicode_samples.zip.\n",
            "[nltk_data]    | Downloading package universal_tagset to\n",
            "[nltk_data]    |     /root/nltk_data...\n",
            "[nltk_data]    |   Unzipping taggers/universal_tagset.zip.\n",
            "[nltk_data]    | Downloading package universal_treebanks_v20 to\n",
            "[nltk_data]    |     /root/nltk_data...\n",
            "[nltk_data]    | Downloading package vader_lexicon to\n",
            "[nltk_data]    |     /root/nltk_data...\n",
            "[nltk_data]    | Downloading package verbnet to /root/nltk_data...\n",
            "[nltk_data]    |   Unzipping corpora/verbnet.zip.\n",
            "[nltk_data]    | Downloading package verbnet3 to /root/nltk_data...\n",
            "[nltk_data]    |   Unzipping corpora/verbnet3.zip.\n",
            "[nltk_data]    | Downloading package webtext to /root/nltk_data...\n",
            "[nltk_data]    |   Unzipping corpora/webtext.zip.\n",
            "[nltk_data]    | Downloading package wmt15_eval to /root/nltk_data...\n",
            "[nltk_data]    |   Unzipping models/wmt15_eval.zip.\n",
            "[nltk_data]    | Downloading package word2vec_sample to\n",
            "[nltk_data]    |     /root/nltk_data...\n",
            "[nltk_data]    |   Unzipping models/word2vec_sample.zip.\n",
            "[nltk_data]    | Downloading package wordnet to /root/nltk_data...\n",
            "[nltk_data]    | Downloading package wordnet2021 to /root/nltk_data...\n",
            "[nltk_data]    | Downloading package wordnet31 to /root/nltk_data...\n",
            "[nltk_data]    | Downloading package wordnet_ic to /root/nltk_data...\n",
            "[nltk_data]    |   Unzipping corpora/wordnet_ic.zip.\n",
            "[nltk_data]    | Downloading package words to /root/nltk_data...\n",
            "[nltk_data]    |   Unzipping corpora/words.zip.\n",
            "[nltk_data]    | Downloading package ycoe to /root/nltk_data...\n",
            "[nltk_data]    |   Unzipping corpora/ycoe.zip.\n",
            "[nltk_data]    | \n",
            "[nltk_data]  Done downloading collection all\n"
          ]
        },
        {
          "data": {
            "text/plain": [
              "True"
            ]
          },
          "execution_count": 7,
          "metadata": {},
          "output_type": "execute_result"
        }
      ],
      "source": [
        "nltk.download(\"all\")"
      ]
    },
    {
      "cell_type": "code",
      "execution_count": 8,
      "metadata": {
        "id": "o8qBxrq4-jtW"
      },
      "outputs": [],
      "source": [
        "from nltk.corpus import stopwords"
      ]
    },
    {
      "cell_type": "code",
      "execution_count": 9,
      "metadata": {
        "id": "3gZ-zaf8_EYs"
      },
      "outputs": [],
      "source": [
        "import re\n",
        "def clean(x):\n",
        "  \n",
        "    x = re.sub(\"\\'\", \"\", x) \n",
        "    \n",
        "    x = re.sub(\"[^a-zA-Z]\",\" \",x) \n",
        "\n",
        "    x= ' '.join(x.split()) \n",
        "    \n",
        "    x = x.lower() \n",
        "    \n",
        "    return x\n",
        "\n",
        "df.loc[:,'summary']=df.loc[:,'summary'].apply(lambda x: clean(x))"
      ]
    },
    {
      "cell_type": "code",
      "execution_count": 10,
      "metadata": {
        "id": "gtWsXt6IA5cS"
      },
      "outputs": [],
      "source": [
        "from nltk.corpus import stopwords\n",
        "stop_words = set(stopwords.words('english'))\n",
        "\n",
        "\n",
        "def removestopwords(text):\n",
        "    no_stopword_text = [w for w in text.split() if not w in stop_words]\n",
        "    return ' '.join(no_stopword_text)\n",
        "\n",
        "df['summary'] = df['summary'].apply(lambda x: removestopwords(x))"
      ]
    },
    {
      "cell_type": "code",
      "execution_count": 11,
      "metadata": {
        "colab": {
          "base_uri": "https://localhost:8080/"
        },
        "id": "7Pg3EIItBePB",
        "outputId": "915c0676-e0ea-49f6-bc8d-cae31606b347"
      },
      "outputs": [
        {
          "data": {
            "text/plain": [
              "0       drowned wednesday first trustee among morrow d...\n",
              "1       book opens jason awakens school bus unable rem...\n",
              "2       cugel easily persuaded merchant fianosther att...\n",
              "3       book opens herald mage vanyel returning countr...\n",
              "4       taran gurgi returned caer dallben following ev...\n",
              "                              ...                        \n",
              "4652    atticus sullivan last druids lives peacefully ...\n",
              "4653    charlie buckets wonderful adventure begins fin...\n",
              "4654    live dream children born free says like land f...\n",
              "4655    rose loves dimitri dimitri might love tasha ma...\n",
              "4656    prince value brishen khaskem prince kai lived ...\n",
              "Name: summary, Length: 4657, dtype: object"
            ]
          },
          "execution_count": 11,
          "metadata": {},
          "output_type": "execute_result"
        }
      ],
      "source": [
        "df['summary']"
      ]
    },
    {
      "cell_type": "code",
      "execution_count": 12,
      "metadata": {
        "id": "KtrCafzxByQ4"
      },
      "outputs": [],
      "source": [
        "from nltk.stem import WordNetLemmatizer"
      ]
    },
    {
      "cell_type": "code",
      "execution_count": 13,
      "metadata": {
        "id": "VjRT6FXSB6JI"
      },
      "outputs": [],
      "source": [
        "l=WordNetLemmatizer()\n",
        "def lemmatizes(text):\n",
        "  lem=[l.lemmatize(w) for w in text.split()]\n",
        "  return ' '.join(lem)\n",
        "df['summary'] = df['summary'].apply(lambda x: lemmatizes(x))"
      ]
    },
    {
      "cell_type": "code",
      "execution_count": 14,
      "metadata": {
        "colab": {
          "base_uri": "https://localhost:8080/"
        },
        "id": "bpmVSyOIDEsR",
        "outputId": "c5b7e06b-a577-4314-90bb-2a05b76f9093"
      },
      "outputs": [
        {
          "data": {
            "text/plain": [
              "0       drowned wednesday first trustee among morrow d...\n",
              "1       book open jason awakens school bus unable reme...\n",
              "2       cugel easily persuaded merchant fianosther att...\n",
              "3       book open herald mage vanyel returning country...\n",
              "4       taran gurgi returned caer dallben following ev...\n",
              "                              ...                        \n",
              "4652    atticus sullivan last druid life peacefully ar...\n",
              "4653    charlie bucket wonderful adventure begin find ...\n",
              "4654    live dream child born free say like land fathe...\n",
              "4655    rose love dimitri dimitri might love tasha mas...\n",
              "4656    prince value brishen khaskem prince kai lived ...\n",
              "Name: summary, Length: 4657, dtype: object"
            ]
          },
          "execution_count": 14,
          "metadata": {},
          "output_type": "execute_result"
        }
      ],
      "source": [
        "df['summary']"
      ]
    },
    {
      "cell_type": "code",
      "execution_count": 15,
      "metadata": {
        "id": "Y43ATjnEEMKg"
      },
      "outputs": [],
      "source": [
        "x=df['summary']\n",
        "y=df['genre']"
      ]
    },
    {
      "cell_type": "code",
      "execution_count": 16,
      "metadata": {
        "id": "EZWsUoMlEOBo"
      },
      "outputs": [],
      "source": [
        "from sklearn.model_selection import train_test_split\n",
        "xtrain, xtest, ytrain, ytest = train_test_split(x, y, test_size=0.2, random_state=5) "
      ]
    },
    {
      "cell_type": "code",
      "execution_count": 17,
      "metadata": {
        "id": "IuOpvtmOEoir"
      },
      "outputs": [],
      "source": [
        "from sklearn.feature_extraction.text import TfidfVectorizer"
      ]
    },
    {
      "cell_type": "code",
      "execution_count": null,
      "metadata": {
        "id": "axQRE6oaYLRN"
      },
      "outputs": [],
      "source": [
        "from sklearn.feature_extraction.text import CountVectorizer"
      ]
    },
    {
      "cell_type": "code",
      "execution_count": 18,
      "metadata": {
        "id": "NRrtDmqzFNQI"
      },
      "outputs": [],
      "source": [
        "t=TfidfVectorizer()\n",
        "x_train=t.fit_transform(xtrain)\n",
        "x_test=t.transform(xtest)"
      ]
    },
    {
      "cell_type": "code",
      "execution_count": null,
      "metadata": {
        "id": "MN9PmyJPYSbb"
      },
      "outputs": [],
      "source": [
        "t1=CountVectorizer()\n",
        "x_train_1=t1.fit_transform(xtrain)\n",
        "x_test_1=t1.transform(xtest)"
      ]
    },
    {
      "cell_type": "code",
      "execution_count": null,
      "metadata": {
        "id": "1iTjuMMKGtro"
      },
      "outputs": [],
      "source": [
        "from sklearn.ensemble import RandomForestClassifier\n",
        "clf=RandomForestClassifier(n_estimators=230,random_state=5,max_depth=300,min_samples_leaf=2)\n",
        "clf.fit(x_train,ytrain)\n",
        "y_pred=clf.predict(x_test)"
      ]
    },
    {
      "cell_type": "code",
      "execution_count": null,
      "metadata": {
        "id": "N1Ezf_xpYbij"
      },
      "outputs": [],
      "source": [
        "from sklearn.ensemble import RandomForestClassifier\n",
        "clf1=RandomForestClassifier(n_estimators=1000,random_state=5,max_depth=600,min_samples_leaf=2)\n",
        "clf1.fit(x_train_1,ytrain)\n",
        "y_pred_1=clf1.predict(x_test_1)"
      ]
    },
    {
      "cell_type": "code",
      "execution_count": null,
      "metadata": {
        "colab": {
          "base_uri": "https://localhost:8080/"
        },
        "id": "auP6yzMNGuTg",
        "outputId": "50c1f7c2-3b68-474a-dbec-ed83ae0acc74"
      },
      "outputs": [
        {
          "name": "stdout",
          "output_type": "stream",
          "text": [
            "Accuracy: 62.66094420600859\n"
          ]
        }
      ],
      "source": [
        "from sklearn import metrics\n",
        "print(\"Accuracy:\",metrics.accuracy_score(ytest, y_pred)*100)\n"
      ]
    },
    {
      "cell_type": "code",
      "execution_count": null,
      "metadata": {
        "colab": {
          "base_uri": "https://localhost:8080/"
        },
        "id": "vcBEh0JxYxXZ",
        "outputId": "7c29b93f-7d60-4d96-9f08-00c0f2e3a21b"
      },
      "outputs": [
        {
          "name": "stdout",
          "output_type": "stream",
          "text": [
            "Accuracy: 62.66094420600859\n"
          ]
        }
      ],
      "source": [
        "print(\"Accuracy:\",metrics.accuracy_score(ytest, y_pred_1)*100)\n"
      ]
    },
    {
      "cell_type": "code",
      "execution_count": 19,
      "metadata": {
        "id": "8LAZ6M1Qn_71"
      },
      "outputs": [],
      "source": [
        "from sklearn.svm import SVC"
      ]
    },
    {
      "cell_type": "code",
      "execution_count": 20,
      "metadata": {
        "colab": {
          "base_uri": "https://localhost:8080/"
        },
        "id": "KTSXl0DMoIA9",
        "outputId": "82496d64-17ce-4049-8e7e-9fd05bbde1b9"
      },
      "outputs": [
        {
          "data": {
            "text/plain": [
              "SVC(kernel='linear', random_state=0)"
            ]
          },
          "execution_count": 20,
          "metadata": {},
          "output_type": "execute_result"
        }
      ],
      "source": [
        "g=SVC(kernel='linear',random_state=0)\n",
        "g.fit(x_train,ytrain)"
      ]
    },
    {
      "cell_type": "code",
      "execution_count": 21,
      "metadata": {
        "id": "ZGF79N92pHrf"
      },
      "outputs": [],
      "source": [
        "y_p_3=g.predict(x_test)"
      ]
    },
    {
      "cell_type": "code",
      "execution_count": 22,
      "metadata": {
        "id": "kLD_26QCFREa"
      },
      "outputs": [],
      "source": [
        "from sklearn import metrics"
      ]
    },
    {
      "cell_type": "code",
      "execution_count": 23,
      "metadata": {
        "colab": {
          "base_uri": "https://localhost:8080/"
        },
        "id": "jrIwb6cDpUGV",
        "outputId": "50136e31-6934-4e18-c263-1670fa02715f"
      },
      "outputs": [
        {
          "data": {
            "text/plain": [
              "0.6909871244635193"
            ]
          },
          "execution_count": 23,
          "metadata": {},
          "output_type": "execute_result"
        }
      ],
      "source": [
        "metrics.accuracy_score(ytest,y_p_3)"
      ]
    },
    {
      "cell_type": "code",
      "execution_count": null,
      "metadata": {
        "colab": {
          "base_uri": "https://localhost:8080/"
        },
        "id": "XkZYqea5pjnA",
        "outputId": "e40c1256-cab3-40c5-aa4d-164b3cc2f7fc"
      },
      "outputs": [
        {
          "data": {
            "text/plain": [
              "SVC(kernel='linear', random_state=0)"
            ]
          },
          "execution_count": 197,
          "metadata": {},
          "output_type": "execute_result"
        }
      ],
      "source": [
        "g1=SVC(kernel='linear',random_state=0)\n",
        "g1.fit(x_train_1,ytrain)"
      ]
    },
    {
      "cell_type": "code",
      "execution_count": null,
      "metadata": {
        "id": "qZLPBXP9qCse"
      },
      "outputs": [],
      "source": [
        "y_p_4=g1.predict(x_test_1)"
      ]
    },
    {
      "cell_type": "code",
      "execution_count": null,
      "metadata": {
        "colab": {
          "base_uri": "https://localhost:8080/"
        },
        "id": "ALbOZaJsqMXX",
        "outputId": "b56b05b4-ee91-4c4f-b87b-5288dcd137f6"
      },
      "outputs": [
        {
          "data": {
            "text/plain": [
              "0.6008583690987125"
            ]
          },
          "execution_count": 199,
          "metadata": {},
          "output_type": "execute_result"
        }
      ],
      "source": [
        "metrics.accuracy_score(ytest,y_p_4)"
      ]
    },
    {
      "cell_type": "code",
      "execution_count": 24,
      "metadata": {
        "colab": {
          "base_uri": "https://localhost:8080/"
        },
        "id": "2IOir0GFRcW4",
        "outputId": "7d234c9c-1e04-464f-a174-5546e56e4eed"
      },
      "outputs": [
        {
          "name": "stdout",
          "output_type": "stream",
          "text": [
            "Looking in indexes: https://pypi.org/simple, https://us-python.pkg.dev/colab-wheels/public/simple/\n",
            "Collecting wikipedia\n",
            "  Downloading wikipedia-1.4.0.tar.gz (27 kB)\n",
            "Requirement already satisfied: beautifulsoup4 in /usr/local/lib/python3.7/dist-packages (from wikipedia) (4.6.3)\n",
            "Requirement already satisfied: requests<3.0.0,>=2.0.0 in /usr/local/lib/python3.7/dist-packages (from wikipedia) (2.23.0)\n",
            "Requirement already satisfied: certifi>=2017.4.17 in /usr/local/lib/python3.7/dist-packages (from requests<3.0.0,>=2.0.0->wikipedia) (2022.9.24)\n",
            "Requirement already satisfied: idna<3,>=2.5 in /usr/local/lib/python3.7/dist-packages (from requests<3.0.0,>=2.0.0->wikipedia) (2.10)\n",
            "Requirement already satisfied: chardet<4,>=3.0.2 in /usr/local/lib/python3.7/dist-packages (from requests<3.0.0,>=2.0.0->wikipedia) (3.0.4)\n",
            "Requirement already satisfied: urllib3!=1.25.0,!=1.25.1,<1.26,>=1.21.1 in /usr/local/lib/python3.7/dist-packages (from requests<3.0.0,>=2.0.0->wikipedia) (1.24.3)\n",
            "Building wheels for collected packages: wikipedia\n",
            "  Building wheel for wikipedia (setup.py) ... \u001b[?25l\u001b[?25hdone\n",
            "  Created wheel for wikipedia: filename=wikipedia-1.4.0-py3-none-any.whl size=11695 sha256=c454cdec2bfe1be341c88347949b571c981e2e934fd78f8498b677c44cd14afe\n",
            "  Stored in directory: /root/.cache/pip/wheels/15/93/6d/5b2c68b8a64c7a7a04947b4ed6d89fb557dcc6bc27d1d7f3ba\n",
            "Successfully built wikipedia\n",
            "Installing collected packages: wikipedia\n",
            "Successfully installed wikipedia-1.4.0\n"
          ]
        }
      ],
      "source": [
        "!pip install wikipedia"
      ]
    },
    {
      "cell_type": "code",
      "execution_count": 25,
      "metadata": {
        "id": "5oTXbAGyRiVz"
      },
      "outputs": [],
      "source": [
        "import wikipedia"
      ]
    },
    {
      "cell_type": "code",
      "execution_count": null,
      "metadata": {
        "id": "cK-o-stTUrgh"
      },
      "outputs": [],
      "source": [
        "v=\"The Jungle Book\"\n",
        "s=[]\n",
        "s.append(v)"
      ]
    },
    {
      "cell_type": "code",
      "execution_count": null,
      "metadata": {
        "id": "Bauukv7SrRRJ"
      },
      "outputs": [],
      "source": [
        "v2=\"Gulliver's Travels\"\n",
        "s.append(v2)"
      ]
    },
    {
      "cell_type": "code",
      "execution_count": null,
      "metadata": {
        "id": "-jq669nkrZV-"
      },
      "outputs": [],
      "source": [
        "r2=wikipedia.summary(v2,sentences=2)\n",
        "u.append(r2)"
      ]
    },
    {
      "cell_type": "code",
      "execution_count": null,
      "metadata": {
        "id": "sVxIHXnaWS6R"
      },
      "outputs": [],
      "source": [
        "r=wikipedia.summary(v,sentences=2)"
      ]
    },
    {
      "cell_type": "code",
      "execution_count": null,
      "metadata": {
        "id": "Ab_TsPAjWeNJ"
      },
      "outputs": [],
      "source": [
        "u=[]\n",
        "u.append(r)\n",
        "v1=\"Three Men in a Boat\"\n",
        "s.append(v1)\n",
        "r1=wikipedia.summary(v1,sentences=2)\n",
        "u.append(r1)"
      ]
    },
    {
      "cell_type": "code",
      "execution_count": null,
      "metadata": {
        "id": "hKV6zyd4stSv"
      },
      "outputs": [],
      "source": [
        "v3=\"The story of my life\"\n",
        "r3=wikipedia.summary(v3,sentences=2)"
      ]
    },
    {
      "cell_type": "code",
      "execution_count": null,
      "metadata": {
        "id": "-B4JRVTus9fY"
      },
      "outputs": [],
      "source": [
        "s.append(v3)\n",
        "u.append(r3)"
      ]
    },
    {
      "cell_type": "code",
      "execution_count": null,
      "metadata": {
        "id": "BefdKyELuELu"
      },
      "outputs": [],
      "source": [
        "v4=\"The Canterville Ghost\"\n",
        "r4=wikipedia.summary(v4,sentences=2)"
      ]
    },
    {
      "cell_type": "code",
      "execution_count": null,
      "metadata": {
        "id": "goV1g-h3uPGd"
      },
      "outputs": [],
      "source": [
        "s.append(v4)\n",
        "u.append(r4)"
      ]
    },
    {
      "cell_type": "code",
      "execution_count": null,
      "metadata": {
        "id": "YbQ_4Dii2AAi"
      },
      "outputs": [],
      "source": [
        "v5=\"The Lost Hero\"\n",
        "r5=wikipedia.summary(v5,sentences=2)"
      ]
    },
    {
      "cell_type": "code",
      "execution_count": null,
      "metadata": {
        "id": "4rP1MVla2KPI"
      },
      "outputs": [],
      "source": [
        "s.append(v5)\n",
        "u.append(r5)"
      ]
    },
    {
      "cell_type": "code",
      "execution_count": null,
      "metadata": {
        "id": "qLV5VcMl5hV8"
      },
      "outputs": [],
      "source": [
        "v6=\"The Perfect Murder\"\n",
        "r6=wikipedia.summary(v6,sentences=2)"
      ]
    },
    {
      "cell_type": "code",
      "execution_count": null,
      "metadata": {
        "id": "O2IABzJc5qti"
      },
      "outputs": [],
      "source": [
        "s.append(v6)\n",
        "u.append(r6)"
      ]
    },
    {
      "cell_type": "code",
      "execution_count": null,
      "metadata": {
        "id": "uJruvN4zR1ex"
      },
      "outputs": [],
      "source": [
        "df2=pd.DataFrame({'title':s,'summary':u})"
      ]
    },
    {
      "cell_type": "code",
      "execution_count": null,
      "metadata": {
        "colab": {
          "base_uri": "https://localhost:8080/",
          "height": 206
        },
        "id": "pRcBHNYTSh8B",
        "outputId": "9e7d22f5-f11d-46dc-9aaf-ce099e212796"
      },
      "outputs": [
        {
          "data": {
            "text/html": [
              "\n",
              "  <div id=\"df-05508342-0b61-427c-85eb-4f4bc873a441\">\n",
              "    <div class=\"colab-df-container\">\n",
              "      <div>\n",
              "<style scoped>\n",
              "    .dataframe tbody tr th:only-of-type {\n",
              "        vertical-align: middle;\n",
              "    }\n",
              "\n",
              "    .dataframe tbody tr th {\n",
              "        vertical-align: top;\n",
              "    }\n",
              "\n",
              "    .dataframe thead th {\n",
              "        text-align: right;\n",
              "    }\n",
              "</style>\n",
              "<table border=\"1\" class=\"dataframe\">\n",
              "  <thead>\n",
              "    <tr style=\"text-align: right;\">\n",
              "      <th></th>\n",
              "      <th>title</th>\n",
              "      <th>summary</th>\n",
              "    </tr>\n",
              "  </thead>\n",
              "  <tbody>\n",
              "    <tr>\n",
              "      <th>0</th>\n",
              "      <td>The Jungle Book</td>\n",
              "      <td>The Jungle Book (1894) is a collection of stor...</td>\n",
              "    </tr>\n",
              "    <tr>\n",
              "      <th>1</th>\n",
              "      <td>Three Men in a Boat</td>\n",
              "      <td>Three Men in a Boat (To Say Nothing of the Dog...</td>\n",
              "    </tr>\n",
              "    <tr>\n",
              "      <th>2</th>\n",
              "      <td>Gulliver's Travels</td>\n",
              "      <td>Gulliver's Travels, or Travels into Several Re...</td>\n",
              "    </tr>\n",
              "    <tr>\n",
              "      <th>3</th>\n",
              "      <td>The story of my life</td>\n",
              "      <td>The Story of My Life, first published in book ...</td>\n",
              "    </tr>\n",
              "    <tr>\n",
              "      <th>4</th>\n",
              "      <td>The Canterville Ghost</td>\n",
              "      <td>\"The Canterville Ghost\" is a humorous short st...</td>\n",
              "    </tr>\n",
              "  </tbody>\n",
              "</table>\n",
              "</div>\n",
              "      <button class=\"colab-df-convert\" onclick=\"convertToInteractive('df-05508342-0b61-427c-85eb-4f4bc873a441')\"\n",
              "              title=\"Convert this dataframe to an interactive table.\"\n",
              "              style=\"display:none;\">\n",
              "        \n",
              "  <svg xmlns=\"http://www.w3.org/2000/svg\" height=\"24px\"viewBox=\"0 0 24 24\"\n",
              "       width=\"24px\">\n",
              "    <path d=\"M0 0h24v24H0V0z\" fill=\"none\"/>\n",
              "    <path d=\"M18.56 5.44l.94 2.06.94-2.06 2.06-.94-2.06-.94-.94-2.06-.94 2.06-2.06.94zm-11 1L8.5 8.5l.94-2.06 2.06-.94-2.06-.94L8.5 2.5l-.94 2.06-2.06.94zm10 10l.94 2.06.94-2.06 2.06-.94-2.06-.94-.94-2.06-.94 2.06-2.06.94z\"/><path d=\"M17.41 7.96l-1.37-1.37c-.4-.4-.92-.59-1.43-.59-.52 0-1.04.2-1.43.59L10.3 9.45l-7.72 7.72c-.78.78-.78 2.05 0 2.83L4 21.41c.39.39.9.59 1.41.59.51 0 1.02-.2 1.41-.59l7.78-7.78 2.81-2.81c.8-.78.8-2.07 0-2.86zM5.41 20L4 18.59l7.72-7.72 1.47 1.35L5.41 20z\"/>\n",
              "  </svg>\n",
              "      </button>\n",
              "      \n",
              "  <style>\n",
              "    .colab-df-container {\n",
              "      display:flex;\n",
              "      flex-wrap:wrap;\n",
              "      gap: 12px;\n",
              "    }\n",
              "\n",
              "    .colab-df-convert {\n",
              "      background-color: #E8F0FE;\n",
              "      border: none;\n",
              "      border-radius: 50%;\n",
              "      cursor: pointer;\n",
              "      display: none;\n",
              "      fill: #1967D2;\n",
              "      height: 32px;\n",
              "      padding: 0 0 0 0;\n",
              "      width: 32px;\n",
              "    }\n",
              "\n",
              "    .colab-df-convert:hover {\n",
              "      background-color: #E2EBFA;\n",
              "      box-shadow: 0px 1px 2px rgba(60, 64, 67, 0.3), 0px 1px 3px 1px rgba(60, 64, 67, 0.15);\n",
              "      fill: #174EA6;\n",
              "    }\n",
              "\n",
              "    [theme=dark] .colab-df-convert {\n",
              "      background-color: #3B4455;\n",
              "      fill: #D2E3FC;\n",
              "    }\n",
              "\n",
              "    [theme=dark] .colab-df-convert:hover {\n",
              "      background-color: #434B5C;\n",
              "      box-shadow: 0px 1px 3px 1px rgba(0, 0, 0, 0.15);\n",
              "      filter: drop-shadow(0px 1px 2px rgba(0, 0, 0, 0.3));\n",
              "      fill: #FFFFFF;\n",
              "    }\n",
              "  </style>\n",
              "\n",
              "      <script>\n",
              "        const buttonEl =\n",
              "          document.querySelector('#df-05508342-0b61-427c-85eb-4f4bc873a441 button.colab-df-convert');\n",
              "        buttonEl.style.display =\n",
              "          google.colab.kernel.accessAllowed ? 'block' : 'none';\n",
              "\n",
              "        async function convertToInteractive(key) {\n",
              "          const element = document.querySelector('#df-05508342-0b61-427c-85eb-4f4bc873a441');\n",
              "          const dataTable =\n",
              "            await google.colab.kernel.invokeFunction('convertToInteractive',\n",
              "                                                     [key], {});\n",
              "          if (!dataTable) return;\n",
              "\n",
              "          const docLinkHtml = 'Like what you see? Visit the ' +\n",
              "            '<a target=\"_blank\" href=https://colab.research.google.com/notebooks/data_table.ipynb>data table notebook</a>'\n",
              "            + ' to learn more about interactive tables.';\n",
              "          element.innerHTML = '';\n",
              "          dataTable['output_type'] = 'display_data';\n",
              "          await google.colab.output.renderOutput(dataTable, element);\n",
              "          const docLink = document.createElement('div');\n",
              "          docLink.innerHTML = docLinkHtml;\n",
              "          element.appendChild(docLink);\n",
              "        }\n",
              "      </script>\n",
              "    </div>\n",
              "  </div>\n",
              "  "
            ],
            "text/plain": [
              "                   title                                            summary\n",
              "0        The Jungle Book  The Jungle Book (1894) is a collection of stor...\n",
              "1    Three Men in a Boat  Three Men in a Boat (To Say Nothing of the Dog...\n",
              "2     Gulliver's Travels  Gulliver's Travels, or Travels into Several Re...\n",
              "3   The story of my life  The Story of My Life, first published in book ...\n",
              "4  The Canterville Ghost  \"The Canterville Ghost\" is a humorous short st..."
            ]
          },
          "execution_count": 298,
          "metadata": {},
          "output_type": "execute_result"
        }
      ],
      "source": [
        "df2.head()"
      ]
    },
    {
      "cell_type": "code",
      "execution_count": null,
      "metadata": {
        "id": "iA9eStd7Wqko"
      },
      "outputs": [],
      "source": [
        "df2.loc[:,'summary']=df2.loc[:,'summary'].apply(lambda x: clean(x))\n",
        "df2['summary'] = df2['summary'].apply(lambda x: removestopwords(x))\n",
        "df2['summary'] = df2['summary'].apply(lambda x: lemmatize(x))"
      ]
    },
    {
      "cell_type": "code",
      "execution_count": null,
      "metadata": {
        "colab": {
          "base_uri": "https://localhost:8080/",
          "height": 206
        },
        "id": "hwmJNHZ0XpcW",
        "outputId": "b7dc555e-3321-435b-dfe2-a81e965f07c8"
      },
      "outputs": [
        {
          "data": {
            "text/html": [
              "\n",
              "  <div id=\"df-20204847-d700-4205-aec0-eed418b78f09\">\n",
              "    <div class=\"colab-df-container\">\n",
              "      <div>\n",
              "<style scoped>\n",
              "    .dataframe tbody tr th:only-of-type {\n",
              "        vertical-align: middle;\n",
              "    }\n",
              "\n",
              "    .dataframe tbody tr th {\n",
              "        vertical-align: top;\n",
              "    }\n",
              "\n",
              "    .dataframe thead th {\n",
              "        text-align: right;\n",
              "    }\n",
              "</style>\n",
              "<table border=\"1\" class=\"dataframe\">\n",
              "  <thead>\n",
              "    <tr style=\"text-align: right;\">\n",
              "      <th></th>\n",
              "      <th>title</th>\n",
              "      <th>summary</th>\n",
              "    </tr>\n",
              "  </thead>\n",
              "  <tbody>\n",
              "    <tr>\n",
              "      <th>0</th>\n",
              "      <td>The Jungle Book</td>\n",
              "      <td>jungle book collection story english author ru...</td>\n",
              "    </tr>\n",
              "    <tr>\n",
              "      <th>1</th>\n",
              "      <td>Three Men in a Boat</td>\n",
              "      <td>three men boat say nothing dog published humor...</td>\n",
              "    </tr>\n",
              "    <tr>\n",
              "      <th>2</th>\n",
              "      <td>Gulliver's Travels</td>\n",
              "      <td>gulliver travel travel several remote nation w...</td>\n",
              "    </tr>\n",
              "    <tr>\n",
              "      <th>3</th>\n",
              "      <td>The story of my life</td>\n",
              "      <td>story life first published book form helen kel...</td>\n",
              "    </tr>\n",
              "    <tr>\n",
              "      <th>4</th>\n",
              "      <td>The Canterville Ghost</td>\n",
              "      <td>canterville ghost humorous short story oscar w...</td>\n",
              "    </tr>\n",
              "  </tbody>\n",
              "</table>\n",
              "</div>\n",
              "      <button class=\"colab-df-convert\" onclick=\"convertToInteractive('df-20204847-d700-4205-aec0-eed418b78f09')\"\n",
              "              title=\"Convert this dataframe to an interactive table.\"\n",
              "              style=\"display:none;\">\n",
              "        \n",
              "  <svg xmlns=\"http://www.w3.org/2000/svg\" height=\"24px\"viewBox=\"0 0 24 24\"\n",
              "       width=\"24px\">\n",
              "    <path d=\"M0 0h24v24H0V0z\" fill=\"none\"/>\n",
              "    <path d=\"M18.56 5.44l.94 2.06.94-2.06 2.06-.94-2.06-.94-.94-2.06-.94 2.06-2.06.94zm-11 1L8.5 8.5l.94-2.06 2.06-.94-2.06-.94L8.5 2.5l-.94 2.06-2.06.94zm10 10l.94 2.06.94-2.06 2.06-.94-2.06-.94-.94-2.06-.94 2.06-2.06.94z\"/><path d=\"M17.41 7.96l-1.37-1.37c-.4-.4-.92-.59-1.43-.59-.52 0-1.04.2-1.43.59L10.3 9.45l-7.72 7.72c-.78.78-.78 2.05 0 2.83L4 21.41c.39.39.9.59 1.41.59.51 0 1.02-.2 1.41-.59l7.78-7.78 2.81-2.81c.8-.78.8-2.07 0-2.86zM5.41 20L4 18.59l7.72-7.72 1.47 1.35L5.41 20z\"/>\n",
              "  </svg>\n",
              "      </button>\n",
              "      \n",
              "  <style>\n",
              "    .colab-df-container {\n",
              "      display:flex;\n",
              "      flex-wrap:wrap;\n",
              "      gap: 12px;\n",
              "    }\n",
              "\n",
              "    .colab-df-convert {\n",
              "      background-color: #E8F0FE;\n",
              "      border: none;\n",
              "      border-radius: 50%;\n",
              "      cursor: pointer;\n",
              "      display: none;\n",
              "      fill: #1967D2;\n",
              "      height: 32px;\n",
              "      padding: 0 0 0 0;\n",
              "      width: 32px;\n",
              "    }\n",
              "\n",
              "    .colab-df-convert:hover {\n",
              "      background-color: #E2EBFA;\n",
              "      box-shadow: 0px 1px 2px rgba(60, 64, 67, 0.3), 0px 1px 3px 1px rgba(60, 64, 67, 0.15);\n",
              "      fill: #174EA6;\n",
              "    }\n",
              "\n",
              "    [theme=dark] .colab-df-convert {\n",
              "      background-color: #3B4455;\n",
              "      fill: #D2E3FC;\n",
              "    }\n",
              "\n",
              "    [theme=dark] .colab-df-convert:hover {\n",
              "      background-color: #434B5C;\n",
              "      box-shadow: 0px 1px 3px 1px rgba(0, 0, 0, 0.15);\n",
              "      filter: drop-shadow(0px 1px 2px rgba(0, 0, 0, 0.3));\n",
              "      fill: #FFFFFF;\n",
              "    }\n",
              "  </style>\n",
              "\n",
              "      <script>\n",
              "        const buttonEl =\n",
              "          document.querySelector('#df-20204847-d700-4205-aec0-eed418b78f09 button.colab-df-convert');\n",
              "        buttonEl.style.display =\n",
              "          google.colab.kernel.accessAllowed ? 'block' : 'none';\n",
              "\n",
              "        async function convertToInteractive(key) {\n",
              "          const element = document.querySelector('#df-20204847-d700-4205-aec0-eed418b78f09');\n",
              "          const dataTable =\n",
              "            await google.colab.kernel.invokeFunction('convertToInteractive',\n",
              "                                                     [key], {});\n",
              "          if (!dataTable) return;\n",
              "\n",
              "          const docLinkHtml = 'Like what you see? Visit the ' +\n",
              "            '<a target=\"_blank\" href=https://colab.research.google.com/notebooks/data_table.ipynb>data table notebook</a>'\n",
              "            + ' to learn more about interactive tables.';\n",
              "          element.innerHTML = '';\n",
              "          dataTable['output_type'] = 'display_data';\n",
              "          await google.colab.output.renderOutput(dataTable, element);\n",
              "          const docLink = document.createElement('div');\n",
              "          docLink.innerHTML = docLinkHtml;\n",
              "          element.appendChild(docLink);\n",
              "        }\n",
              "      </script>\n",
              "    </div>\n",
              "  </div>\n",
              "  "
            ],
            "text/plain": [
              "                   title                                            summary\n",
              "0        The Jungle Book  jungle book collection story english author ru...\n",
              "1    Three Men in a Boat  three men boat say nothing dog published humor...\n",
              "2     Gulliver's Travels  gulliver travel travel several remote nation w...\n",
              "3   The story of my life  story life first published book form helen kel...\n",
              "4  The Canterville Ghost  canterville ghost humorous short story oscar w..."
            ]
          },
          "execution_count": 300,
          "metadata": {},
          "output_type": "execute_result"
        }
      ],
      "source": [
        "df2.head()"
      ]
    },
    {
      "cell_type": "code",
      "execution_count": null,
      "metadata": {
        "id": "KPK9E3LPhb-W"
      },
      "outputs": [],
      "source": [
        "x1=df2['summary']"
      ]
    },
    {
      "cell_type": "code",
      "execution_count": null,
      "metadata": {
        "id": "d0r6RMk8W7-q"
      },
      "outputs": [],
      "source": [
        "x1=t.transform(x1)"
      ]
    },
    {
      "cell_type": "code",
      "execution_count": null,
      "metadata": {
        "id": "axF9ufiph4lG"
      },
      "outputs": [],
      "source": [
        "y6=g.predict(x1)"
      ]
    },
    {
      "cell_type": "code",
      "execution_count": null,
      "metadata": {
        "colab": {
          "base_uri": "https://localhost:8080/"
        },
        "id": "Ps_wWp8kiH6b",
        "outputId": "fafb6503-005c-45a1-bbdc-5c354e0a2b44"
      },
      "outputs": [
        {
          "data": {
            "text/plain": [
              "array(['history', 'history', 'travel', 'history', 'fantasy', 'fantasy',\n",
              "       'fantasy', 'crime'], dtype=object)"
            ]
          },
          "execution_count": 304,
          "metadata": {},
          "output_type": "execute_result"
        }
      ],
      "source": [
        "y6"
      ]
    },
    {
      "cell_type": "code",
      "execution_count": null,
      "metadata": {
        "colab": {
          "base_uri": "https://localhost:8080/",
          "height": 206
        },
        "id": "fdJ15VpKiW-9",
        "outputId": "9f0c8bae-552d-4af7-9d96-259833b35cc3"
      },
      "outputs": [
        {
          "data": {
            "text/html": [
              "\n",
              "  <div id=\"df-3f197526-d20f-4d04-9465-016b0700f665\">\n",
              "    <div class=\"colab-df-container\">\n",
              "      <div>\n",
              "<style scoped>\n",
              "    .dataframe tbody tr th:only-of-type {\n",
              "        vertical-align: middle;\n",
              "    }\n",
              "\n",
              "    .dataframe tbody tr th {\n",
              "        vertical-align: top;\n",
              "    }\n",
              "\n",
              "    .dataframe thead th {\n",
              "        text-align: right;\n",
              "    }\n",
              "</style>\n",
              "<table border=\"1\" class=\"dataframe\">\n",
              "  <thead>\n",
              "    <tr style=\"text-align: right;\">\n",
              "      <th></th>\n",
              "      <th>index</th>\n",
              "      <th>title</th>\n",
              "      <th>genre</th>\n",
              "      <th>summary</th>\n",
              "    </tr>\n",
              "  </thead>\n",
              "  <tbody>\n",
              "    <tr>\n",
              "      <th>4652</th>\n",
              "      <td>4652</td>\n",
              "      <td>Hounded</td>\n",
              "      <td>fantasy</td>\n",
              "      <td>atticus sullivan last druid life peacefully ar...</td>\n",
              "    </tr>\n",
              "    <tr>\n",
              "      <th>4653</th>\n",
              "      <td>4653</td>\n",
              "      <td>Charlie and the Chocolate Factory</td>\n",
              "      <td>fantasy</td>\n",
              "      <td>charlie bucket wonderful adventure begin find ...</td>\n",
              "    </tr>\n",
              "    <tr>\n",
              "      <th>4654</th>\n",
              "      <td>4654</td>\n",
              "      <td>Red Rising</td>\n",
              "      <td>fantasy</td>\n",
              "      <td>live dream child born free say like land fathe...</td>\n",
              "    </tr>\n",
              "    <tr>\n",
              "      <th>4655</th>\n",
              "      <td>4655</td>\n",
              "      <td>Frostbite</td>\n",
              "      <td>fantasy</td>\n",
              "      <td>rose love dimitri dimitri might love tasha mas...</td>\n",
              "    </tr>\n",
              "    <tr>\n",
              "      <th>4656</th>\n",
              "      <td>4656</td>\n",
              "      <td>Radiance</td>\n",
              "      <td>fantasy</td>\n",
              "      <td>prince value brishen khaskem prince kai lived ...</td>\n",
              "    </tr>\n",
              "  </tbody>\n",
              "</table>\n",
              "</div>\n",
              "      <button class=\"colab-df-convert\" onclick=\"convertToInteractive('df-3f197526-d20f-4d04-9465-016b0700f665')\"\n",
              "              title=\"Convert this dataframe to an interactive table.\"\n",
              "              style=\"display:none;\">\n",
              "        \n",
              "  <svg xmlns=\"http://www.w3.org/2000/svg\" height=\"24px\"viewBox=\"0 0 24 24\"\n",
              "       width=\"24px\">\n",
              "    <path d=\"M0 0h24v24H0V0z\" fill=\"none\"/>\n",
              "    <path d=\"M18.56 5.44l.94 2.06.94-2.06 2.06-.94-2.06-.94-.94-2.06-.94 2.06-2.06.94zm-11 1L8.5 8.5l.94-2.06 2.06-.94-2.06-.94L8.5 2.5l-.94 2.06-2.06.94zm10 10l.94 2.06.94-2.06 2.06-.94-2.06-.94-.94-2.06-.94 2.06-2.06.94z\"/><path d=\"M17.41 7.96l-1.37-1.37c-.4-.4-.92-.59-1.43-.59-.52 0-1.04.2-1.43.59L10.3 9.45l-7.72 7.72c-.78.78-.78 2.05 0 2.83L4 21.41c.39.39.9.59 1.41.59.51 0 1.02-.2 1.41-.59l7.78-7.78 2.81-2.81c.8-.78.8-2.07 0-2.86zM5.41 20L4 18.59l7.72-7.72 1.47 1.35L5.41 20z\"/>\n",
              "  </svg>\n",
              "      </button>\n",
              "      \n",
              "  <style>\n",
              "    .colab-df-container {\n",
              "      display:flex;\n",
              "      flex-wrap:wrap;\n",
              "      gap: 12px;\n",
              "    }\n",
              "\n",
              "    .colab-df-convert {\n",
              "      background-color: #E8F0FE;\n",
              "      border: none;\n",
              "      border-radius: 50%;\n",
              "      cursor: pointer;\n",
              "      display: none;\n",
              "      fill: #1967D2;\n",
              "      height: 32px;\n",
              "      padding: 0 0 0 0;\n",
              "      width: 32px;\n",
              "    }\n",
              "\n",
              "    .colab-df-convert:hover {\n",
              "      background-color: #E2EBFA;\n",
              "      box-shadow: 0px 1px 2px rgba(60, 64, 67, 0.3), 0px 1px 3px 1px rgba(60, 64, 67, 0.15);\n",
              "      fill: #174EA6;\n",
              "    }\n",
              "\n",
              "    [theme=dark] .colab-df-convert {\n",
              "      background-color: #3B4455;\n",
              "      fill: #D2E3FC;\n",
              "    }\n",
              "\n",
              "    [theme=dark] .colab-df-convert:hover {\n",
              "      background-color: #434B5C;\n",
              "      box-shadow: 0px 1px 3px 1px rgba(0, 0, 0, 0.15);\n",
              "      filter: drop-shadow(0px 1px 2px rgba(0, 0, 0, 0.3));\n",
              "      fill: #FFFFFF;\n",
              "    }\n",
              "  </style>\n",
              "\n",
              "      <script>\n",
              "        const buttonEl =\n",
              "          document.querySelector('#df-3f197526-d20f-4d04-9465-016b0700f665 button.colab-df-convert');\n",
              "        buttonEl.style.display =\n",
              "          google.colab.kernel.accessAllowed ? 'block' : 'none';\n",
              "\n",
              "        async function convertToInteractive(key) {\n",
              "          const element = document.querySelector('#df-3f197526-d20f-4d04-9465-016b0700f665');\n",
              "          const dataTable =\n",
              "            await google.colab.kernel.invokeFunction('convertToInteractive',\n",
              "                                                     [key], {});\n",
              "          if (!dataTable) return;\n",
              "\n",
              "          const docLinkHtml = 'Like what you see? Visit the ' +\n",
              "            '<a target=\"_blank\" href=https://colab.research.google.com/notebooks/data_table.ipynb>data table notebook</a>'\n",
              "            + ' to learn more about interactive tables.';\n",
              "          element.innerHTML = '';\n",
              "          dataTable['output_type'] = 'display_data';\n",
              "          await google.colab.output.renderOutput(dataTable, element);\n",
              "          const docLink = document.createElement('div');\n",
              "          docLink.innerHTML = docLinkHtml;\n",
              "          element.appendChild(docLink);\n",
              "        }\n",
              "      </script>\n",
              "    </div>\n",
              "  </div>\n",
              "  "
            ],
            "text/plain": [
              "      index                              title    genre  \\\n",
              "4652   4652                            Hounded  fantasy   \n",
              "4653   4653  Charlie and the Chocolate Factory  fantasy   \n",
              "4654   4654                         Red Rising  fantasy   \n",
              "4655   4655                          Frostbite  fantasy   \n",
              "4656   4656                           Radiance  fantasy   \n",
              "\n",
              "                                                summary  \n",
              "4652  atticus sullivan last druid life peacefully ar...  \n",
              "4653  charlie bucket wonderful adventure begin find ...  \n",
              "4654  live dream child born free say like land fathe...  \n",
              "4655  rose love dimitri dimitri might love tasha mas...  \n",
              "4656  prince value brishen khaskem prince kai lived ...  "
            ]
          },
          "execution_count": 72,
          "metadata": {},
          "output_type": "execute_result"
        }
      ],
      "source": [
        "df.tail()"
      ]
    },
    {
      "cell_type": "code",
      "execution_count": null,
      "metadata": {
        "id": "ynD5oJfFHbEY"
      },
      "outputs": [],
      "source": [
        "from sklearn.tree import DecisionTreeClassifier"
      ]
    },
    {
      "cell_type": "code",
      "execution_count": null,
      "metadata": {
        "id": "YWgseAF8Hn-p"
      },
      "outputs": [],
      "source": [
        "c=DecisionTreeClassifier(random_state=5)\n",
        "c.fit(x_train,ytrain)\n",
        "y_p=c.predict(x_test)"
      ]
    },
    {
      "cell_type": "code",
      "execution_count": null,
      "metadata": {
        "colab": {
          "base_uri": "https://localhost:8080/"
        },
        "id": "xAcBCIUyKf5T",
        "outputId": "6518ccf3-3493-482c-fc5e-148e3e71ee65"
      },
      "outputs": [
        {
          "data": {
            "text/plain": [
              "44.4206008583691"
            ]
          },
          "execution_count": 30,
          "metadata": {},
          "output_type": "execute_result"
        }
      ],
      "source": [
        "metrics.accuracy_score(ytest,y_p)*100"
      ]
    },
    {
      "cell_type": "code",
      "execution_count": 26,
      "metadata": {
        "colab": {
          "base_uri": "https://localhost:8080/"
        },
        "id": "5uXjrM4VjPW8",
        "outputId": "a7d046ca-c575-415a-8c70-d7f8104f249f"
      },
      "outputs": [
        {
          "name": "stdout",
          "output_type": "stream",
          "text": [
            "Looking in indexes: https://pypi.org/simple, https://us-python.pkg.dev/colab-wheels/public/simple/\n",
            "Collecting gtts\n",
            "  Downloading gTTS-2.2.4-py3-none-any.whl (26 kB)\n",
            "Requirement already satisfied: click in /usr/local/lib/python3.7/dist-packages (from gtts) (7.1.2)\n",
            "Requirement already satisfied: requests in /usr/local/lib/python3.7/dist-packages (from gtts) (2.23.0)\n",
            "Requirement already satisfied: six in /usr/local/lib/python3.7/dist-packages (from gtts) (1.15.0)\n",
            "Requirement already satisfied: chardet<4,>=3.0.2 in /usr/local/lib/python3.7/dist-packages (from requests->gtts) (3.0.4)\n",
            "Requirement already satisfied: urllib3!=1.25.0,!=1.25.1,<1.26,>=1.21.1 in /usr/local/lib/python3.7/dist-packages (from requests->gtts) (1.24.3)\n",
            "Requirement already satisfied: certifi>=2017.4.17 in /usr/local/lib/python3.7/dist-packages (from requests->gtts) (2022.9.24)\n",
            "Requirement already satisfied: idna<3,>=2.5 in /usr/local/lib/python3.7/dist-packages (from requests->gtts) (2.10)\n",
            "Installing collected packages: gtts\n",
            "Successfully installed gtts-2.2.4\n"
          ]
        }
      ],
      "source": [
        "pip install gtts"
      ]
    },
    {
      "cell_type": "code",
      "execution_count": null,
      "metadata": {
        "colab": {
          "base_uri": "https://localhost:8080/",
          "height": 157
        },
        "id": "W9J5jM5AjGoj",
        "outputId": "27ae88d2-16ab-4cae-bb6e-76ca8f34534c"
      },
      "outputs": [
        {
          "name": "stdout",
          "output_type": "stream",
          "text": [
            " Enter text-to-speech:\n",
            " > The Interpreter of Dreams and Beyond the Pleasure Principle\n",
            "\n",
            "  Done! \n",
            "\n",
            "\n",
            "  Hit enter to exit...\n"
          ]
        },
        {
          "data": {
            "application/vnd.google.colaboratory.intrinsic+json": {
              "type": "string"
            },
            "text/plain": [
              "''"
            ]
          },
          "execution_count": 31,
          "metadata": {},
          "output_type": "execute_result"
        }
      ],
      "source": [
        "from gtts import gTTS\n",
        "\n",
        "\n",
        "\n",
        "\n",
        "my_text = input(' Enter text-to-speech:\\n > ')\n",
        "r=wikipedia.page(my_text).content\n",
        "p=[]\n",
        "q=[]\n",
        "p.append(my_text)\n",
        "q.append(r)\n",
        "df3=pd.DataFrame({'title':p,'summary':q})\n",
        "df3.loc[:,'summary']=df3.loc[:,'summary'].apply(lambda x: clean(x))\n",
        "df3['summary'] = df3['summary'].apply(lambda x: removestopwords(x))\n",
        "df3['summary'] = df3['summary'].apply(lambda x: lemmatizes(x))\n",
        "x8=df3['summary']\n",
        "x8=t.transform(x8)\n",
        "y8=g.predict(x8)\n",
        "k=y8[0]\n",
        "m=\"The category of book is \"+k\n",
        "tts = gTTS(text=m, lang='en', slow=False)\n",
        "tts.save('summarys.mp3')  \n",
        "\n",
        "\n",
        "\n",
        "print(\"\\n  Done! \")\n",
        "\n",
        "\n",
        "\n",
        "input('\\n'*2 + '  Hit enter to exit...')"
      ]
    },
    {
      "cell_type": "code",
      "execution_count": null,
      "metadata": {
        "colab": {
          "base_uri": "https://localhost:8080/"
        },
        "id": "U86a6maUj-5D",
        "outputId": "1437716f-4169-480d-dfd4-b0ea7d86afa1"
      },
      "outputs": [
        {
          "name": "stdout",
          "output_type": "stream",
          "text": [
            "Looking in indexes: https://pypi.org/simple, https://us-python.pkg.dev/colab-wheels/public/simple/\n",
            "Requirement already satisfied: IPython in /usr/local/lib/python3.7/dist-packages (7.9.0)\n",
            "Requirement already satisfied: setuptools>=18.5 in /usr/local/lib/python3.7/dist-packages (from IPython) (57.4.0)\n",
            "Requirement already satisfied: pexpect in /usr/local/lib/python3.7/dist-packages (from IPython) (4.8.0)\n",
            "Requirement already satisfied: pickleshare in /usr/local/lib/python3.7/dist-packages (from IPython) (0.7.5)\n",
            "Requirement already satisfied: traitlets>=4.2 in /usr/local/lib/python3.7/dist-packages (from IPython) (5.1.1)\n",
            "Requirement already satisfied: decorator in /usr/local/lib/python3.7/dist-packages (from IPython) (4.4.2)\n",
            "Requirement already satisfied: pygments in /usr/local/lib/python3.7/dist-packages (from IPython) (2.6.1)\n",
            "Requirement already satisfied: backcall in /usr/local/lib/python3.7/dist-packages (from IPython) (0.2.0)\n",
            "Collecting jedi>=0.10\n",
            "  Downloading jedi-0.18.1-py2.py3-none-any.whl (1.6 MB)\n",
            "\u001b[K     |████████████████████████████████| 1.6 MB 21.9 MB/s \n",
            "\u001b[?25hRequirement already satisfied: prompt-toolkit<2.1.0,>=2.0.0 in /usr/local/lib/python3.7/dist-packages (from IPython) (2.0.10)\n",
            "Requirement already satisfied: parso<0.9.0,>=0.8.0 in /usr/local/lib/python3.7/dist-packages (from jedi>=0.10->IPython) (0.8.3)\n",
            "Requirement already satisfied: six>=1.9.0 in /usr/local/lib/python3.7/dist-packages (from prompt-toolkit<2.1.0,>=2.0.0->IPython) (1.15.0)\n",
            "Requirement already satisfied: wcwidth in /usr/local/lib/python3.7/dist-packages (from prompt-toolkit<2.1.0,>=2.0.0->IPython) (0.2.5)\n",
            "Requirement already satisfied: ptyprocess>=0.5 in /usr/local/lib/python3.7/dist-packages (from pexpect->IPython) (0.7.0)\n",
            "Installing collected packages: jedi\n",
            "Successfully installed jedi-0.18.1\n"
          ]
        }
      ],
      "source": [
        "pip install IPython"
      ]
    },
    {
      "cell_type": "code",
      "execution_count": 32,
      "metadata": {
        "colab": {
          "base_uri": "https://localhost:8080/",
          "height": 75
        },
        "id": "-03lr8KFjzmC",
        "outputId": "48e5e13a-e0a6-44af-9de1-9b47b71ac7ea"
      },
      "outputs": [
        {
          "data": {
            "text/html": [
              "\n",
              "                <audio  controls=\"controls\" >\n",
              "                    <source src=\"data:audio/mpeg;base64,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\" type=\"audio/mpeg\" />\n",
              "                    Your browser does not support the audio element.\n",
              "                </audio>\n",
              "              "
            ],
            "text/plain": [
              "<IPython.lib.display.Audio object>"
            ]
          },
          "execution_count": 32,
          "metadata": {},
          "output_type": "execute_result"
        }
      ],
      "source": [
        "import IPython\n",
        "IPython.display.Audio('summarys.mp3')"
      ]
    }
  ],
  "metadata": {
    "colab": {
      "collapsed_sections": [],
      "provenance": []
    },
    "kernelspec": {
      "display_name": "Python 3.7.9 64-bit (microsoft store)",
      "language": "python",
      "name": "python3"
    },
    "language_info": {
      "name": "python",
      "version": "3.7.9"
    },
    "vscode": {
      "interpreter": {
        "hash": "45add03699aca0fa7b7f9692785818e6ebd3d3d07fef9810d2974be94f693def"
      }
    }
  },
  "nbformat": 4,
  "nbformat_minor": 0
}
